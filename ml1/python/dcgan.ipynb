{
  "nbformat": 4,
  "nbformat_minor": 0,
  "metadata": {
    "colab": {
      "name": "dcgan.ipynb",
      "version": "0.3.2",
      "provenance": []
    },
    "language_info": {
      "codemirror_mode": {
        "name": "ipython",
        "version": 3
      },
      "file_extension": ".py",
      "mimetype": "text/x-python",
      "name": "python",
      "nbconvert_exporter": "python",
      "pygments_lexer": "ipython3",
      "version": "3.6.3"
    },
    "kernelspec": {
      "name": "python3",
      "display_name": "Python 3"
    },
    "accelerator": "GPU"
  },
  "cells": [
    {
      "cell_type": "code",
      "metadata": {
        "id": "SL1xZpm33jrZ",
        "colab_type": "code",
        "colab": {
          "base_uri": "https://localhost:8080/",
          "height": 70
        },
        "outputId": "5460b6cb-deec-443d-94df-1b9c15eee2ac"
      },
      "source": [
        "from __future__ import absolute_import, division, print_function\n",
        "\n",
        "from datetime import datetime\n",
        "import os\n",
        "from shutil import copyfile\n",
        "\n",
        "import tensorflow as tf\n",
        "print('Tensorflow Version: ', tf.__version__)\n",
        "from tensorflow.keras import Model, layers\n",
        "import numpy as np\n",
        "\n",
        "from google.colab import drive\n",
        "\n",
        "drive.mount('/content/gdrive')\n",
        "drive_dest_folder = '/content/gdrive/My Drive/Colab Notebooks/data'\n",
        "\n",
        "# MNIST Dataset parameters.\n",
        "num_features = 784 # data features (img shape: 28*28).\n",
        "\n",
        "# Network parameters.\n",
        "noise_dim = 100 # Noise data points."
      ],
      "execution_count": 1,
      "outputs": [
        {
          "output_type": "stream",
          "text": [
            "Tensorflow Version:  2.0.0-alpha0\n",
            "Drive already mounted at /content/gdrive; to attempt to forcibly remount, call drive.mount(\"/content/gdrive\", force_remount=True).\n"
          ],
          "name": "stdout"
        }
      ]
    },
    {
      "cell_type": "code",
      "metadata": {
        "id": "7KlwZOI83jrl",
        "colab_type": "code",
        "colab": {}
      },
      "source": [
        "# Create TF Model.\n",
        "class Generator(Model):\n",
        "    # Set layers.\n",
        "    def __init__(self):\n",
        "        super(Generator, self).__init__()\n",
        "        self.fc1 = layers.Dense(7 * 7 * 128)\n",
        "        self.bn1 = layers.BatchNormalization()\n",
        "        self.conv2tr1 = layers.Conv2DTranspose(64, 5, strides=2, padding='SAME')\n",
        "        self.bn2 = layers.BatchNormalization()\n",
        "        self.conv2tr2 = layers.Conv2DTranspose(1, 5, strides=2, padding='SAME')\n",
        "\n",
        "    # Set forward pass.\n",
        "    def call(self, x, is_training=False):\n",
        "        x = self.fc1(x)\n",
        "        x = self.bn1(x, training=is_training)\n",
        "        x = tf.nn.leaky_relu(x)\n",
        "        # Reshape to a 4-D array of images: (batch, height, width, channels)\n",
        "        # New shape: (batch, 7, 7, 128)\n",
        "        x = tf.reshape(x, shape=[-1, 7, 7, 128])\n",
        "        # Deconvolution, image shape: (batch, 14, 14, 64)\n",
        "        x = self.conv2tr1(x)\n",
        "        x = self.bn2(x, training=is_training)\n",
        "        x = tf.nn.leaky_relu(x)\n",
        "        # Deconvolution, image shape: (batch, 28, 28, 1)\n",
        "        x = self.conv2tr2(x)\n",
        "        x = tf.nn.tanh(x)\n",
        "        return x\n",
        "\n",
        "# Generator Network\n",
        "# Input: Noise, Output: Image\n",
        "# Note that batch normalization has different behavior at training and inference time,\n",
        "# we then use a placeholder to indicates the layer if we are training or not.\n",
        "class Discriminator(Model):\n",
        "    # Set layers.\n",
        "    def __init__(self):\n",
        "        super(Discriminator, self).__init__()\n",
        "        self.conv1 = layers.Conv2D(64, 5, strides=2, padding='SAME')\n",
        "        self.bn1 = layers.BatchNormalization()\n",
        "        self.conv2 = layers.Conv2D(128, 5, strides=2, padding='SAME')\n",
        "        self.bn2 = layers.BatchNormalization()\n",
        "        self.flatten = layers.Flatten()\n",
        "        self.fc1 = layers.Dense(1024)\n",
        "        self.bn3 = layers.BatchNormalization()\n",
        "        self.fc2 = layers.Dense(2)\n",
        "\n",
        "    # Set forward pass.\n",
        "    def call(self, x, is_training=False):\n",
        "        x = tf.reshape(x, [-1, 28, 28, 1])\n",
        "        x = self.conv1(x)\n",
        "        x = self.bn1(x, training=is_training)\n",
        "        x = tf.nn.leaky_relu(x)\n",
        "        x = self.conv2(x)\n",
        "        x = self.bn2(x, training=is_training)\n",
        "        x = tf.nn.leaky_relu(x)\n",
        "        x = self.flatten(x)\n",
        "        x = self.fc1(x)\n",
        "        x = self.bn3(x, training=is_training)\n",
        "        x = tf.nn.leaky_relu(x)\n",
        "        return self.fc2(x)\n"
      ],
      "execution_count": 0,
      "outputs": []
    },
    {
      "cell_type": "code",
      "metadata": {
        "id": "wxtA37_h_dnq",
        "colab_type": "code",
        "colab": {}
      },
      "source": [
        "def save_model_to_google_drive(model):\n",
        "  dated_file_name = str(datetime.now().strftime('%Y_%m_%d_%H_%M_%S'))\n",
        "  file_name = '{0}_{1}.ckpt'.format(\n",
        "      model.__class__.__name__, dated_file_name)\n",
        "  print('Saving -> {}'.format(file_name))\n",
        "  model.save_weights(\n",
        "      filepath=os.path.join(drive_dest_folder, file_name))\n",
        "\n",
        "\n",
        "def load_latest_model(model):\n",
        "  model_files = [\n",
        "      f\n",
        "      for f in os.listdir(drive_dest_folder)\n",
        "      if model.__class__.__name__ in f\n",
        "  ]\n",
        "  model_files.sort()\n",
        "  latest_file_name = '{}.ckpt'.format(model_files[-1].split('.')[0])\n",
        "  latest_filepath = os.path.join(drive_dest_folder, latest_file_name)\n",
        "  print('Loading -> {}'.format(latest_filepath))\n",
        "  model.load_weights(filepath=latest_filepath)\n",
        "  return model"
      ],
      "execution_count": 0,
      "outputs": []
    },
    {
      "cell_type": "code",
      "metadata": {
        "id": "S9IV85q7Hd-F",
        "colab_type": "code",
        "colab": {}
      },
      "source": [
        "# Build neural network model from SCRATCH\n",
        "generator = Generator()\n",
        "discriminator = Discriminator()"
      ],
      "execution_count": 0,
      "outputs": []
    },
    {
      "cell_type": "code",
      "metadata": {
        "id": "mOWtk_CYIVX9",
        "colab_type": "code",
        "colab": {
          "base_uri": "https://localhost:8080/",
          "height": 50
        },
        "outputId": "f69dc5f4-90b4-4baf-8468-fb4e2a4f34ef"
      },
      "source": [
        "# Build neural network model from PREVIOUS SAVED DATA\n",
        "generator = load_latest_model(Generator())\n",
        "discriminator = load_latest_model(Discriminator())"
      ],
      "execution_count": 8,
      "outputs": [
        {
          "output_type": "stream",
          "text": [
            "Loading -> /content/gdrive/My Drive/Colab Notebooks/data/Generator_2019_05_22_15_18_18.ckpt\n",
            "Loading -> /content/gdrive/My Drive/Colab Notebooks/data/Discriminator_2019_05_22_15_18_18.ckpt\n"
          ],
          "name": "stdout"
        }
      ]
    },
    {
      "cell_type": "code",
      "metadata": {
        "id": "yrx6vrxl3jr5",
        "colab_type": "code",
        "colab": {
          "base_uri": "https://localhost:8080/",
          "height": 378
        },
        "outputId": "f8c8f8e2-19f9-4b96-f53e-018af96b0312"
      },
      "source": [
        "# Visualize predictions.\n",
        "import matplotlib.pyplot as plt\n",
        "\n",
        "\n",
        "def generate_sliding_noise(indexes_to_slide=[0]):\n",
        "  noise_line = np.random.normal(-1., 1., size=noise_dim).astype(np.float32)\n",
        "  noise = np.zeros([36, 100]).astype(np.float32)\n",
        "  for i in range(z.shape[0]):\n",
        "    noise[i] = noise_line\n",
        "    for n in indexes_to_slide:\n",
        "      noise[i][n] = ((i / (noise.shape[0] - 1)) * 2) - 1\n",
        "  return noise\n",
        "\n",
        "\n",
        "def draw_noise(z):\n",
        "  # Generate image from noise.\n",
        "  g = generator(z).numpy()\n",
        "  # Rescale to original [0, 1]\n",
        "  g = (g + 1.) / 2\n",
        "  # Reverse colours for better display\n",
        "  g = -1 * (g - 1)\n",
        "  canvas = np.empty((28 * n, 28 * n))\n",
        "  for i in range(n):\n",
        "      for j in range(n):\n",
        "          # Draw the generated digits\n",
        "          canvas[i * 28:(i + 1) * 28, j * 28:(j + 1) * 28] = g[(i * n) + j].reshape([28, 28])\n",
        "  plt.figure(figsize=(n, n))\n",
        "  plt.imshow(canvas, origin=\"upper\", cmap=\"gray\")\n",
        "  plt.show()\n",
        "\n",
        "\n",
        "# Generate images from noise, using the generator network.\n",
        "n = 6\n",
        "# Noise input.\n",
        "# z = np.random.normal(-1., 1., size=[n * n, noise_dim]).astype(np.float32)\n",
        "draw_noise(generate_sliding_noise([10,20,30,40,50,60, 70, 80,90]))"
      ],
      "execution_count": 62,
      "outputs": [
        {
          "output_type": "display_data",
          "data": {
            "image/png": "[encoded data removed]",
            "text/plain": [
              "<Figure size 432x432 with 1 Axes>"
            ]
          },
          "metadata": {
            "tags": []
          }
        }
      ]
    },
    {
      "cell_type": "code",
      "metadata": {
        "id": "ZyTGfBpYJQEm",
        "colab_type": "code",
        "colab": {}
      },
      "source": [
        "# Training parameters.\n",
        "lr_generator = 0.0002\n",
        "lr_discriminator = 0.0002\n",
        "training_steps = 5000\n",
        "batch_size = 128\n",
        "display_step = 500"
      ],
      "execution_count": 0,
      "outputs": []
    },
    {
      "cell_type": "code",
      "metadata": {
        "id": "lb-gTC9K3jrf",
        "colab_type": "code",
        "colab": {}
      },
      "source": [
        "# Prepare MNIST data.\n",
        "from tensorflow.keras.datasets import mnist\n",
        "(x_train, y_train), (x_test, y_test) = mnist.load_data()\n",
        "# Convert to float32.\n",
        "x_train, x_test = np.array(x_train, np.float32), np.array(x_test, np.float32)\n",
        "# Normalize images value from [0, 255] to [0, 1].\n",
        "x_train, x_test = x_train / 255., x_test / 255.\n",
        "\n",
        "# Use tf.data API to shuffle and batch data.\n",
        "train_data = tf.data.Dataset.from_tensor_slices((x_train, y_train))\n",
        "train_data = train_data.repeat().shuffle(10000).batch(batch_size).prefetch(1)"
      ],
      "execution_count": 0,
      "outputs": []
    },
    {
      "cell_type": "code",
      "metadata": {
        "id": "hnl5p2zn3jro",
        "colab_type": "code",
        "colab": {}
      },
      "source": [
        "# Losses.\n",
        "def generator_loss(disc_output):\n",
        "    gen_loss = tf.reduce_mean(tf.nn.sparse_softmax_cross_entropy_with_logits(\n",
        "        logits=disc_output, labels=tf.ones([batch_size], dtype=tf.int32)))\n",
        "    return gen_loss\n",
        "\n",
        "def discriminator_loss(disc_fake, disc_real):\n",
        "    disc_loss_real = tf.reduce_mean(tf.nn.sparse_softmax_cross_entropy_with_logits(\n",
        "        logits=disc_real, labels=tf.ones([batch_size], dtype=tf.int32)))\n",
        "    disc_loss_fake = tf.reduce_mean(tf.nn.sparse_softmax_cross_entropy_with_logits(\n",
        "        logits=disc_fake, labels=tf.zeros([batch_size], dtype=tf.int32)))\n",
        "    return disc_loss_real + disc_loss_fake\n",
        "\n",
        "# Optimizers.\n",
        "optimizer_gen = tf.optimizers.Adam(learning_rate=lr_generator)#, beta_1=0.5, beta_2=0.999)\n",
        "optimizer_disc = tf.optimizers.Adam(learning_rate=lr_discriminator)#, beta_1=0.5, beta_2=0.999)"
      ],
      "execution_count": 0,
      "outputs": []
    },
    {
      "cell_type": "code",
      "metadata": {
        "id": "v5v0w8kH3jrs",
        "colab_type": "code",
        "colab": {}
      },
      "source": [
        "# Optimization process. Inputs: real image and noise.\n",
        "def run_optimization(real_images):\n",
        "    \n",
        "    # Rescale to [-1, 1], the input range of the discriminator\n",
        "    real_images = real_images * 2. - 1.\n",
        "\n",
        "    # Generate noise.\n",
        "    noise = np.random.normal(-1., 1., size=[batch_size, noise_dim]).astype(np.float32)\n",
        "    \n",
        "    with tf.GradientTape() as g:\n",
        "            \n",
        "        fake_images = generator(noise, is_training=True)\n",
        "        disc_fake = discriminator(fake_images, is_training=True)\n",
        "        disc_real = discriminator(real_images, is_training=True)\n",
        "\n",
        "        disc_loss = discriminator_loss(disc_fake, disc_real)\n",
        "            \n",
        "    # Training Variables for each optimizer\n",
        "    gradients_disc = g.gradient(disc_loss,  discriminator.trainable_variables)\n",
        "    optimizer_disc.apply_gradients(zip(gradients_disc,  discriminator.trainable_variables))\n",
        "    \n",
        "    # Generate noise.\n",
        "    noise = np.random.normal(-1., 1., size=[batch_size, noise_dim]).astype(np.float32)\n",
        "    \n",
        "    with tf.GradientTape() as g:\n",
        "            \n",
        "        fake_images = generator(noise, is_training=True)\n",
        "        disc_fake = discriminator(fake_images, is_training=True)\n",
        "\n",
        "        gen_loss = generator_loss(disc_fake)\n",
        "            \n",
        "    gradients_gen = g.gradient(gen_loss, generator.trainable_variables)\n",
        "    optimizer_gen.apply_gradients(zip(gradients_gen, generator.trainable_variables))\n",
        "    \n",
        "    return gen_loss, disc_loss"
      ],
      "execution_count": 0,
      "outputs": []
    },
    {
      "cell_type": "code",
      "metadata": {
        "scrolled": true,
        "id": "tqZd6puP3jry",
        "colab_type": "code",
        "colab": {
          "base_uri": "https://localhost:8080/",
          "height": 202
        },
        "outputId": "bf51eb14-4596-4b02-ef2b-171af42dd2bd"
      },
      "source": [
        "# Run training for the given number of steps.\n",
        "for step, (batch_x, _) in enumerate(train_data.take(training_steps + 1)):\n",
        "    \n",
        "    if step == 0:\n",
        "        # Generate noise.\n",
        "        noise = np.random.normal(-1., 1., size=[batch_size, noise_dim]).astype(np.float32)\n",
        "        gen_loss = generator_loss(discriminator(generator(noise)))\n",
        "        disc_loss = discriminator_loss(discriminator(batch_x), discriminator(generator(noise)))\n",
        "        print(\"initial: gen_loss: %f, disc_loss: %f\" % (gen_loss, disc_loss))\n",
        "        continue\n",
        "    \n",
        "    # Run the optimization.\n",
        "    gen_loss, disc_loss = run_optimization(batch_x)\n",
        "    \n",
        "    if step % display_step == 0:\n",
        "        print(\"step: %i, gen_loss: %f, disc_loss: %f\" % (step, gen_loss, disc_loss))"
      ],
      "execution_count": 11,
      "outputs": [
        {
          "output_type": "stream",
          "text": [
            "initial: gen_loss: 2.668866, disc_loss: 2.694618\n",
            "step: 500, gen_loss: 3.366920, disc_loss: 0.191741\n",
            "step: 1000, gen_loss: 3.784293, disc_loss: 0.155192\n",
            "step: 1500, gen_loss: 4.609366, disc_loss: 0.212447\n",
            "step: 2000, gen_loss: 5.298974, disc_loss: 0.092677\n",
            "step: 2500, gen_loss: 3.881725, disc_loss: 0.107746\n",
            "step: 3000, gen_loss: 3.252800, disc_loss: 0.204092\n",
            "step: 3500, gen_loss: 4.736138, disc_loss: 0.110404\n",
            "step: 4000, gen_loss: 4.638585, disc_loss: 0.117195\n",
            "step: 4500, gen_loss: 4.610701, disc_loss: 0.115803\n",
            "step: 5000, gen_loss: 5.109273, disc_loss: 0.161861\n"
          ],
          "name": "stdout"
        }
      ]
    },
    {
      "cell_type": "code",
      "metadata": {
        "id": "qqh2zthtHsMk",
        "colab_type": "code",
        "colab": {
          "base_uri": "https://localhost:8080/",
          "height": 50
        },
        "outputId": "0fd29398-ca8a-4631-d6a4-b6941b43de40"
      },
      "source": [
        "save_model_to_google_drive(generator)\n",
        "save_model_to_google_drive(discriminator)"
      ],
      "execution_count": 12,
      "outputs": [
        {
          "output_type": "stream",
          "text": [
            "Saving -> Generator_2019_05_22_15_30_20.ckpt\n",
            "Saving -> Discriminator_2019_05_22_15_30_20.ckpt\n"
          ],
          "name": "stdout"
        }
      ]
    },
    {
      "cell_type": "code",
      "metadata": {
        "id": "tjb2pD0gIYK2",
        "colab_type": "code",
        "colab": {
          "base_uri": "https://localhost:8080/",
          "height": 622
        },
        "outputId": "afc1a747-eb18-401a-8893-e628341ec58e"
      },
      "source": [
        "index_to_slide = 0\n",
        "z_start = np.random.normal(-1., 1., size=noise_dim).astype(np.float32)\n",
        "z = np.zeros([36, 100]).astype(np.float32)\n",
        "for i in range(z.shape[0]):\n",
        "  z[i] = z_start\n",
        "  z[i][index_to_slide] = ((i / (z.shape[0] - 1)) * 2) - 1"
      ],
      "execution_count": 50,
      "outputs": [
        {
          "output_type": "stream",
          "text": [
            "-1.0\n",
            "-0.94285715\n",
            "-0.8857143\n",
            "-0.82857144\n",
            "-0.7714286\n",
            "-0.71428573\n",
            "-0.6571429\n",
            "-0.6\n",
            "-0.54285717\n",
            "-0.4857143\n",
            "-0.42857143\n",
            "-0.37142858\n",
            "-0.31428573\n",
            "-0.25714287\n",
            "-0.2\n",
            "-0.14285715\n",
            "-0.08571429\n",
            "-0.028571429\n",
            "0.028571429\n",
            "0.08571429\n",
            "0.14285715\n",
            "0.2\n",
            "0.25714287\n",
            "0.31428573\n",
            "0.37142858\n",
            "0.42857143\n",
            "0.4857143\n",
            "0.54285717\n",
            "0.6\n",
            "0.6571429\n",
            "0.71428573\n",
            "0.7714286\n",
            "0.82857144\n",
            "0.8857143\n",
            "0.94285715\n",
            "1.0\n"
          ],
          "name": "stdout"
        }
      ]
    },
    {
      "cell_type": "code",
      "metadata": {
        "id": "povOr7fdLNl7",
        "colab_type": "code",
        "colab": {}
      },
      "source": [
        ""
      ],
      "execution_count": 0,
      "outputs": []
    }
  ]
}