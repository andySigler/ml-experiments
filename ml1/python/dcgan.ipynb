{
  "nbformat": 4,
  "nbformat_minor": 0,
  "metadata": {
    "colab": {
      "name": "dcgan.ipynb",
      "version": "0.3.2",
      "provenance": [],
      "collapsed_sections": []
    },
    "language_info": {
      "codemirror_mode": {
        "name": "ipython",
        "version": 3
      },
      "file_extension": ".py",
      "mimetype": "text/x-python",
      "name": "python",
      "nbconvert_exporter": "python",
      "pygments_lexer": "ipython3",
      "version": "3.6.3"
    },
    "kernelspec": {
      "name": "python3",
      "display_name": "Python 3"
    },
    "accelerator": "GPU"
  },
  "cells": [
    {
      "cell_type": "code",
      "metadata": {
        "id": "vLiFTvhePXac",
        "colab_type": "code",
        "colab": {}
      },
      "source": [
        "!pip install tensorflow==2.0.0-alpha0 --upgrade\n",
        "!pip install tensorflow-gpu==2.0.0-alpha0 --upgrade"
      ],
      "execution_count": 0,
      "outputs": []
    },
    {
      "cell_type": "code",
      "metadata": {
        "id": "SL1xZpm33jrZ",
        "colab_type": "code",
        "outputId": "ac29ad21-4171-4b1d-e07b-132d7865494e",
        "colab": {
          "base_uri": "https://localhost:8080/",
          "height": 87
        }
      },
      "source": [
        "from __future__ import absolute_import, division, print_function\n",
        "\n",
        "from datetime import datetime\n",
        "import os\n",
        "from shutil import copyfile\n",
        "\n",
        "import tensorflow as tf\n",
        "print('Tensorflow Version: ', tf.__version__)\n",
        "print('GPU: ', tf.test.gpu_device_name())\n",
        "from tensorflow.compat.v1.keras import Sequential, layers, models\n",
        "import numpy as np\n",
        "\n",
        "from google.colab import drive\n",
        "\n",
        "drive.mount('/content/gdrive')\n",
        "drive_dest_folder = '/content/gdrive/My Drive/Colab Notebooks/data'\n",
        "\n",
        "# MNIST Dataset parameters.\n",
        "pixel_res = 28\n",
        "num_features = pixel_res * pixel_res # data features (img shape: 28*28).\n",
        "\n",
        "# Network parameters.\n",
        "noise_dim = 100 # Noise data points."
      ],
      "execution_count": 0,
      "outputs": [
        {
          "output_type": "stream",
          "text": [
            "Tensorflow Version:  2.0.0-alpha0\n",
            "GPU:  /device:GPU:0\n",
            "Drive already mounted at /content/gdrive; to attempt to forcibly remount, call drive.mount(\"/content/gdrive\", force_remount=True).\n"
          ],
          "name": "stdout"
        }
      ]
    },
    {
      "cell_type": "code",
      "metadata": {
        "id": "45C8SikXKY3i",
        "colab_type": "code",
        "colab": {}
      },
      "source": [
        "def generator_model():\n",
        "    model = Sequential()\n",
        "    model.add(layers.Dense(1024, input_shape=(noise_dim,)))\n",
        "    model.add(layers.Activation('tanh'))\n",
        "    model.add(layers.Dense(128*7*7))\n",
        "    model.add(layers.BatchNormalization())\n",
        "    model.add(layers.Activation('tanh'))\n",
        "    model.add(layers.Reshape((7, 7, 128), input_shape=(128*7*7,)))\n",
        "    model.add(layers.UpSampling2D(size=(2, 2)))\n",
        "    model.add(layers.Conv2D(64, (5, 5), padding='same'))\n",
        "    model.add(layers.Activation('tanh'))\n",
        "    model.add(layers.UpSampling2D(size=(2, 2)))\n",
        "    model.add(layers.Conv2D(1, (5, 5), padding='same'))\n",
        "    model.add(layers.Activation('tanh'))\n",
        "    return model\n",
        "\n",
        "\n",
        "def discriminator_model():\n",
        "    model = Sequential()\n",
        "    model.add(layers.Reshape(\n",
        "      target_shape=(pixel_res, pixel_res, 1),\n",
        "      input_shape=(pixel_res, pixel_res, 1)))\n",
        "    model.add(\n",
        "      layers.Conv2D(64, (5, 5), padding='same')\n",
        "    )\n",
        "    model.add(layers.Activation('tanh'))\n",
        "    model.add(layers.MaxPooling2D(pool_size=(2, 2)))\n",
        "    model.add(layers.Conv2D(128, (5, 5)))\n",
        "    model.add(layers.Activation('tanh'))\n",
        "    model.add(layers.MaxPooling2D(pool_size=(2, 2)))\n",
        "    model.add(layers.Flatten())\n",
        "    model.add(layers.Dense(1024))\n",
        "    model.add(layers.Activation('tanh'))\n",
        "    model.add(layers.Dense(1))\n",
        "    model.add(layers.Activation('sigmoid'))\n",
        "    return model\n",
        "\n",
        "\n",
        "def create_combination(gen, dis):\n",
        "  new_model = tf.keras.Sequential()\n",
        "  new_model.add(gen)\n",
        "  dis.trainable = False\n",
        "  new_model.add(dis)\n",
        "  return new_model"
      ],
      "execution_count": 0,
      "outputs": []
    },
    {
      "cell_type": "code",
      "metadata": {
        "id": "wxtA37_h_dnq",
        "colab_type": "code",
        "colab": {}
      },
      "source": [
        "def dated_filename():\n",
        "  return str(datetime.now().strftime('%Y_%m_%d_%H_%M_%S'))\n",
        "\n",
        "\n",
        "def save_checkpoint(model, name):\n",
        "  checkpoint_name = '{0}_{1}.ckpt'.format(name, dated_filename())\n",
        "  print('Saving -> {}'.format(checkpoint_name))\n",
        "  model.save_weights(\n",
        "      filepath=os.path.join(drive_dest_folder, checkpoint_name))\n",
        "\n",
        "\n",
        "def load_latest_checkpoint(model, name):\n",
        "  model_files = [\n",
        "      f\n",
        "      for f in os.listdir(drive_dest_folder)\n",
        "      if name in f and 'ckpt' in f\n",
        "  ]\n",
        "  model_files.sort()\n",
        "  latest_file_name = '{}.ckpt'.format(model_files[-1].split('.')[0])\n",
        "  latest_filepath = os.path.join(drive_dest_folder, latest_file_name)\n",
        "  print('Loading -> {}'.format(latest_filepath))\n",
        "  model.load_weights(filepath=latest_filepath)\n",
        "  return model\n",
        "\n",
        "\n",
        "def save_model(model, name):\n",
        "  blob_name = '{0}_{1}.h5'.format(name, dated_filename())\n",
        "  print('Saving -> {}'.format(blob_name))\n",
        "  model.save(os.path.join(drive_dest_folder, blob_name))\n",
        "\n",
        "\n",
        "def load_latest_model(name):\n",
        "  model_files = [\n",
        "      f\n",
        "      for f in os.listdir(drive_dest_folder)\n",
        "      if name in f and 'h5' in f\n",
        "  ]\n",
        "  model_files.sort()\n",
        "  latest_file_name = model_files[-1]\n",
        "  latest_filepath = os.path.join(drive_dest_folder, latest_file_name)\n",
        "  print('Loading -> {}'.format(latest_filepath))\n",
        "  model = tf.keras.models.load_model(latest_filepath)\n",
        "  return model"
      ],
      "execution_count": 0,
      "outputs": []
    },
    {
      "cell_type": "code",
      "metadata": {
        "id": "Jxjmxnt4O0i5",
        "colab_type": "code",
        "colab": {}
      },
      "source": [
        "loading = False\n",
        "if loading:\n",
        "  generator = load_latest_model('generator')\n",
        "  discriminator = load_latest_model('discriminator')\n",
        "else:\n",
        "  generator = generator_model()\n",
        "  discriminator = discriminator_model()\n",
        "combined = create_combination(generator, discriminator)"
      ],
      "execution_count": 0,
      "outputs": []
    },
    {
      "cell_type": "code",
      "metadata": {
        "id": "yrx6vrxl3jr5",
        "colab_type": "code",
        "outputId": "8614aa78-c3d8-43e9-d25c-1bc207176ace",
        "colab": {
          "base_uri": "https://localhost:8080/",
          "height": 394
        }
      },
      "source": [
        "# Visualize predictions.\n",
        "import matplotlib.pyplot as plt\n",
        "\n",
        "\n",
        "def generate_sliding_noise(indexes_to_slide=[0]):\n",
        "  noise_line = np.random.normal(-1., 1., size=noise_dim).astype(np.float32)\n",
        "  noise = np.zeros([36, 100]).astype(np.float32)\n",
        "  for i in range(noise.shape[0]):\n",
        "    noise[i] = noise_line\n",
        "    for n in indexes_to_slide:\n",
        "      noise[i][n] = ((i / (noise.shape[0] - 1)) * 2) - 1\n",
        "  return noise\n",
        "\n",
        "\n",
        "def draw_noise(z):\n",
        "  # Generate image from noise.\n",
        "  g = generator.predict(z)\n",
        "  print(g.shape)\n",
        "  # Rescale to original [0, 1]\n",
        "  g = (g + 1.) / 2\n",
        "  # Reverse colours for better display\n",
        "  g = -1 * (g - 1)\n",
        "  canvas = np.empty((28 * n, 28 * n))\n",
        "  for i in range(n):\n",
        "      for j in range(n):\n",
        "          # Draw the generated digits\n",
        "          canvas[i * 28:(i + 1) * 28, j * 28:(j + 1) * 28] = g[(i * n) + j].reshape([28, 28])\n",
        "  plt.figure(figsize=(n, n))\n",
        "  plt.imshow(canvas, origin=\"upper\", cmap=\"gray\")\n",
        "  plt.show()\n",
        "\n",
        "\n",
        "# Generate images from noise, using the generator network.\n",
        "n = 6\n",
        "# Noise input.\n",
        "z = np.random.normal(-1., 1., size=[n * n, noise_dim]).astype(np.float32)\n",
        "# draw_noise(generate_sliding_noise([10,20,30,40,50,60, 70, 80,90]))\n",
        "draw_noise(z)"
      ],
      "execution_count": 0,
      "outputs": [
        {
          "output_type": "stream",
          "text": [
            "(36, 28, 28, 1)\n"
          ],
          "name": "stdout"
        },
        {
          "output_type": "display_data",
          "data": {
            "image/png": "[encoded data removed]",
            "text/plain": [
              "<Figure size 432x432 with 1 Axes>"
            ]
          },
          "metadata": {
            "tags": []
          }
        }
      ]
    },
    {
      "cell_type": "code",
      "metadata": {
        "id": "ZyTGfBpYJQEm",
        "colab_type": "code",
        "colab": {}
      },
      "source": [
        "# Training parameters.\n",
        "learning_rate = 0.0002\n",
        "training_steps = 20000\n",
        "batch_size = 128\n",
        "display_step = 500"
      ],
      "execution_count": 0,
      "outputs": []
    },
    {
      "cell_type": "code",
      "metadata": {
        "id": "lb-gTC9K3jrf",
        "colab_type": "code",
        "colab": {}
      },
      "source": [
        "# Prepare MNIST data.\n",
        "from tensorflow.keras.datasets import mnist\n",
        "(x_train, y_train), (x_test, y_test) = mnist.load_data()\n",
        "# Convert to float32.\n",
        "x_train, x_test = np.array(x_train, np.float32), np.array(x_test, np.float32)\n",
        "# Normalize images value from [0, 255] to [0, 1].\n",
        "x_train, x_test = x_train / 255., x_test / 255.\n",
        "# reshape for the disciminator\n",
        "x_train = np.reshape(x_train, (-1, pixel_res, pixel_res, 1))\n",
        "x_test = np.reshape(x_test, (-1, pixel_res, pixel_res, 1))\n",
        "# Rescale to [-1, 1], the input range of the discriminator\n",
        "x_train = (x_train * 2) - 1\n",
        "x_test = (x_test * 2) - 1\n",
        "\n",
        "# Use tf.data API to shuffle and batch data.\n",
        "train_data = tf.data.Dataset.from_tensor_slices((x_train, y_train))\n",
        "train_data = train_data.repeat().shuffle(10000).batch(batch_size).prefetch(1)"
      ],
      "execution_count": 0,
      "outputs": []
    },
    {
      "cell_type": "code",
      "metadata": {
        "id": "hnl5p2zn3jro",
        "colab_type": "code",
        "colab": {}
      },
      "source": [
        "generator.compile(\n",
        "    loss='binary_crossentropy', optimizer=\"SGD\")\n",
        "\n",
        "discriminator.trainable = False\n",
        "combined.compile(\n",
        "    loss='binary_crossentropy',\n",
        "    optimizer=tf.keras.optimizers.SGD(\n",
        "        lr=learning_rate, momentum=0.9, nesterov=True\n",
        "    )\n",
        ")\n",
        "\n",
        "discriminator.trainable = True\n",
        "discriminator.compile(\n",
        "    loss='binary_crossentropy',\n",
        "    optimizer=tf.keras.optimizers.SGD(\n",
        "        lr=learning_rate, momentum=0.9, nesterov=True\n",
        "    )\n",
        ")\n",
        "\n",
        "true_labels = tf.ones([batch_size], dtype=tf.float32)\n",
        "false_labels = tf.zeros([batch_size], dtype=tf.float32)"
      ],
      "execution_count": 0,
      "outputs": []
    },
    {
      "cell_type": "code",
      "metadata": {
        "scrolled": true,
        "id": "tqZd6puP3jry",
        "colab_type": "code",
        "outputId": "bfdc6459-dcff-41a8-e193-d629dba97b4e",
        "colab": {
          "base_uri": "https://localhost:8080/",
          "height": 706
        }
      },
      "source": [
        "# Run training for the given number of steps.\n",
        "for i, (batch_x, _) in enumerate(train_data.take(training_steps)):\n",
        "    \n",
        "    if i % display_step == 0:\n",
        "      print('On Batch ', i, '/', training_steps)\n",
        "    \n",
        "    # Generate noise.\n",
        "    noise_input = np.random.normal(\n",
        "        -1., 1., size=[batch_size, noise_dim]).astype(np.float32)\n",
        "    # use noise to create fake images\n",
        "    fake_images = generator.predict(noise_input)\n",
        "    # train the discriminator, using both fake and real images\n",
        "    discriminator.trainable = True\n",
        "    discriminator.train_on_batch(fake_images, false_labels)\n",
        "    discriminator.train_on_batch(batch_x, true_labels)\n",
        "    \n",
        "    # Generate noise.\n",
        "    noise_input = np.random.normal(\n",
        "        -1., 1., size=[batch_size, noise_dim]).astype(np.float32)\n",
        "    discriminator.trainable = False\n",
        "    combined.train_on_batch(noise_input, true_labels)\n",
        "\n",
        "\n",
        "print('done')"
      ],
      "execution_count": 0,
      "outputs": [
        {
          "output_type": "stream",
          "text": [
            "On Batch  0 / 20000\n",
            "On Batch  500 / 20000\n",
            "On Batch  1000 / 20000\n",
            "On Batch  1500 / 20000\n",
            "On Batch  2000 / 20000\n",
            "On Batch  2500 / 20000\n",
            "On Batch  3000 / 20000\n",
            "On Batch  3500 / 20000\n",
            "On Batch  4000 / 20000\n",
            "On Batch  4500 / 20000\n",
            "On Batch  5000 / 20000\n",
            "On Batch  5500 / 20000\n",
            "On Batch  6000 / 20000\n",
            "On Batch  6500 / 20000\n",
            "On Batch  7000 / 20000\n",
            "On Batch  7500 / 20000\n",
            "On Batch  8000 / 20000\n",
            "On Batch  8500 / 20000\n",
            "On Batch  9000 / 20000\n",
            "On Batch  9500 / 20000\n",
            "On Batch  10000 / 20000\n",
            "On Batch  10500 / 20000\n",
            "On Batch  11000 / 20000\n",
            "On Batch  11500 / 20000\n",
            "On Batch  12000 / 20000\n",
            "On Batch  12500 / 20000\n",
            "On Batch  13000 / 20000\n",
            "On Batch  13500 / 20000\n",
            "On Batch  14000 / 20000\n",
            "On Batch  14500 / 20000\n",
            "On Batch  15000 / 20000\n",
            "On Batch  15500 / 20000\n",
            "On Batch  16000 / 20000\n",
            "On Batch  16500 / 20000\n",
            "On Batch  17000 / 20000\n",
            "On Batch  17500 / 20000\n",
            "On Batch  18000 / 20000\n",
            "On Batch  18500 / 20000\n",
            "On Batch  19000 / 20000\n",
            "On Batch  19500 / 20000\n",
            "done\n"
          ],
          "name": "stdout"
        }
      ]
    },
    {
      "cell_type": "code",
      "metadata": {
        "id": "o9F9pPRfEitH",
        "colab_type": "code",
        "outputId": "4656c2b7-dce2-431b-a480-4b4af26a7bab",
        "colab": {
          "base_uri": "https://localhost:8080/",
          "height": 50
        }
      },
      "source": [
        "save_model(generator, 'generator')\n",
        "save_model(discriminator, 'discriminator')"
      ],
      "execution_count": 0,
      "outputs": [
        {
          "output_type": "stream",
          "text": [
            "Saving -> generator_2019_05_24_00_39_17.h5\n",
            "Saving -> discriminator_2019_05_24_00_39_17.h5\n"
          ],
          "name": "stdout"
        }
      ]
    },
    {
      "cell_type": "code",
      "metadata": {
        "id": "UjX1tVSuE4WM",
        "colab_type": "code",
        "colab": {}
      },
      "source": [
        ""
      ],
      "execution_count": 0,
      "outputs": []
    }
  ]
}